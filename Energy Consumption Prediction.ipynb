{
 "cells": [
  {
   "cell_type": "markdown",
   "metadata": {
    "_cell_guid": "b1076dfc-b9ad-4769-8c92-a6c4dae69d19",
    "_uuid": "8f2839f25d086af736a60e9eeb907d3b93b6e0e5"
   },
   "source": [
    "**Linear Regression to Predict Energy Consumption in Indonesia**\n",
    "\n",
    "**Kelompok 4_KB22**\n",
    "\n",
    "Pada kasus ini, akan digunakan regresi linear untuk memprediksi besar konsumnsi energi di Indonesia menggunakan dataset yang diambil dari kaggle berjudul 'What are the safest and cleanest sources of energy'"
   ]
  },
  {
   "cell_type": "markdown",
   "metadata": {},
   "source": [
    "**Import some library**"
   ]
  },
  {
   "cell_type": "code",
   "execution_count": 79,
   "metadata": {
    "execution": {
     "iopub.execute_input": "2022-06-23T07:00:29.584743Z",
     "iopub.status.busy": "2022-06-23T07:00:29.583679Z",
     "iopub.status.idle": "2022-06-23T07:00:30.610456Z",
     "shell.execute_reply": "2022-06-23T07:00:30.609601Z",
     "shell.execute_reply.started": "2022-06-23T07:00:29.584554Z"
    }
   },
   "outputs": [],
   "source": [
    "import pandas as pd\n",
    "import matplotlib.pyplot as plt\n",
    "import seaborn as sns\n",
    "import numpy as np"
   ]
  },
  {
   "cell_type": "markdown",
   "metadata": {},
   "source": [
    "Pada dataset 'What are the safest and cleanest sources of energy' terdapat banyak data seperti dampak, death rate, dan biaya energi per sumbernya. Namun, data yang dibutuhkan dan juga paling lengkap adalah data mengenai konsumsi energi sehingga kita hanya akan mengambil data dari salah satu sheet yang ada di file excel"
   ]
  },
  {
   "cell_type": "code",
   "execution_count": 80,
   "metadata": {},
   "outputs": [
    {
     "name": "stdout",
     "output_type": "stream",
     "text": [
      "<class 'pandas.core.frame.DataFrame'>\n",
      "RangeIndex: 6560 entries, 0 to 6559\n",
      "Data columns (total 12 columns):\n",
      " #   Column                    Non-Null Count  Dtype  \n",
      "---  ------                    --------------  -----  \n",
      " 0   Entity                    6560 non-null   object \n",
      " 1   Code                      5515 non-null   object \n",
      " 2   Year                      6560 non-null   int64  \n",
      " 3   Oil Consumption - EJ      5184 non-null   float64\n",
      " 4   Gas Consumption - EJ      5170 non-null   float64\n",
      " 5   Coal Consumption - EJ     5170 non-null   float64\n",
      " 6   Solar Consumption - EJ    5170 non-null   float64\n",
      " 7   Hydro Consumption - EJ    5170 non-null   float64\n",
      " 8   Nuclear Consumption - EJ  5170 non-null   float64\n",
      " 9   Wind Consumption - EJ     5170 non-null   float64\n",
      " 10  Geo Biomass Other - EJ    5170 non-null   float64\n",
      " 11  Biofuels (TWh)            5660 non-null   float64\n",
      "dtypes: float64(9), int64(1), object(2)\n",
      "memory usage: 615.1+ KB\n"
     ]
    },
    {
     "data": {
      "text/html": [
       "<div>\n",
       "<style scoped>\n",
       "    .dataframe tbody tr th:only-of-type {\n",
       "        vertical-align: middle;\n",
       "    }\n",
       "\n",
       "    .dataframe tbody tr th {\n",
       "        vertical-align: top;\n",
       "    }\n",
       "\n",
       "    .dataframe thead th {\n",
       "        text-align: right;\n",
       "    }\n",
       "</style>\n",
       "<table border=\"1\" class=\"dataframe\">\n",
       "  <thead>\n",
       "    <tr style=\"text-align: right;\">\n",
       "      <th></th>\n",
       "      <th>Entity</th>\n",
       "      <th>Code</th>\n",
       "      <th>Year</th>\n",
       "      <th>Oil Consumption - EJ</th>\n",
       "      <th>Gas Consumption - EJ</th>\n",
       "      <th>Coal Consumption - EJ</th>\n",
       "      <th>Solar Consumption - EJ</th>\n",
       "      <th>Hydro Consumption - EJ</th>\n",
       "      <th>Nuclear Consumption - EJ</th>\n",
       "      <th>Wind Consumption - EJ</th>\n",
       "      <th>Geo Biomass Other - EJ</th>\n",
       "      <th>Biofuels (TWh)</th>\n",
       "    </tr>\n",
       "  </thead>\n",
       "  <tbody>\n",
       "    <tr>\n",
       "      <th>0</th>\n",
       "      <td>Africa</td>\n",
       "      <td>NaN</td>\n",
       "      <td>1965</td>\n",
       "      <td>325.900637</td>\n",
       "      <td>9.543762</td>\n",
       "      <td>323.496397</td>\n",
       "      <td>0.0</td>\n",
       "      <td>38.626795</td>\n",
       "      <td>0.0</td>\n",
       "      <td>0.0</td>\n",
       "      <td>0.0</td>\n",
       "      <td>0.0</td>\n",
       "    </tr>\n",
       "    <tr>\n",
       "      <th>1</th>\n",
       "      <td>Africa</td>\n",
       "      <td>NaN</td>\n",
       "      <td>1966</td>\n",
       "      <td>356.709630</td>\n",
       "      <td>10.669925</td>\n",
       "      <td>323.122452</td>\n",
       "      <td>0.0</td>\n",
       "      <td>43.083379</td>\n",
       "      <td>0.0</td>\n",
       "      <td>0.0</td>\n",
       "      <td>0.0</td>\n",
       "      <td>0.0</td>\n",
       "    </tr>\n",
       "    <tr>\n",
       "      <th>2</th>\n",
       "      <td>Africa</td>\n",
       "      <td>NaN</td>\n",
       "      <td>1967</td>\n",
       "      <td>353.833321</td>\n",
       "      <td>10.545678</td>\n",
       "      <td>330.291849</td>\n",
       "      <td>0.0</td>\n",
       "      <td>44.974026</td>\n",
       "      <td>0.0</td>\n",
       "      <td>0.0</td>\n",
       "      <td>0.0</td>\n",
       "      <td>0.0</td>\n",
       "    </tr>\n",
       "    <tr>\n",
       "      <th>3</th>\n",
       "      <td>Africa</td>\n",
       "      <td>NaN</td>\n",
       "      <td>1968</td>\n",
       "      <td>373.394345</td>\n",
       "      <td>10.688978</td>\n",
       "      <td>343.513186</td>\n",
       "      <td>0.0</td>\n",
       "      <td>52.606544</td>\n",
       "      <td>0.0</td>\n",
       "      <td>0.0</td>\n",
       "      <td>0.0</td>\n",
       "      <td>0.0</td>\n",
       "    </tr>\n",
       "    <tr>\n",
       "      <th>4</th>\n",
       "      <td>Africa</td>\n",
       "      <td>NaN</td>\n",
       "      <td>1969</td>\n",
       "      <td>378.536268</td>\n",
       "      <td>12.492010</td>\n",
       "      <td>346.643199</td>\n",
       "      <td>0.0</td>\n",
       "      <td>61.391409</td>\n",
       "      <td>0.0</td>\n",
       "      <td>0.0</td>\n",
       "      <td>0.0</td>\n",
       "      <td>0.0</td>\n",
       "    </tr>\n",
       "  </tbody>\n",
       "</table>\n",
       "</div>"
      ],
      "text/plain": [
       "   Entity Code  Year  Oil Consumption - EJ  Gas Consumption - EJ  \\\n",
       "0  Africa  NaN  1965            325.900637              9.543762   \n",
       "1  Africa  NaN  1966            356.709630             10.669925   \n",
       "2  Africa  NaN  1967            353.833321             10.545678   \n",
       "3  Africa  NaN  1968            373.394345             10.688978   \n",
       "4  Africa  NaN  1969            378.536268             12.492010   \n",
       "\n",
       "   Coal Consumption - EJ  Solar Consumption - EJ  Hydro Consumption - EJ  \\\n",
       "0             323.496397                     0.0               38.626795   \n",
       "1             323.122452                     0.0               43.083379   \n",
       "2             330.291849                     0.0               44.974026   \n",
       "3             343.513186                     0.0               52.606544   \n",
       "4             346.643199                     0.0               61.391409   \n",
       "\n",
       "   Nuclear Consumption - EJ  Wind Consumption - EJ  Geo Biomass Other - EJ  \\\n",
       "0                       0.0                    0.0                     0.0   \n",
       "1                       0.0                    0.0                     0.0   \n",
       "2                       0.0                    0.0                     0.0   \n",
       "3                       0.0                    0.0                     0.0   \n",
       "4                       0.0                    0.0                     0.0   \n",
       "\n",
       "   Biofuels (TWh)  \n",
       "0             0.0  \n",
       "1             0.0  \n",
       "2             0.0  \n",
       "3             0.0  \n",
       "4             0.0  "
      ]
     },
     "execution_count": 80,
     "metadata": {},
     "output_type": "execute_result"
    }
   ],
   "source": [
    "file = pd.ExcelFile('What are the safest and cleanest sources of energy.xlsx')\n",
    "df = pd.read_excel(file, 'energy consumption by sources')\n",
    "df.info()\n",
    "df.head()"
   ]
  },
  {
   "cell_type": "markdown",
   "metadata": {},
   "source": [
    "Karena kita hanya memprediksi data pada negara Indonesia maka data negara lain perlu dihapus"
   ]
  },
  {
   "cell_type": "code",
   "execution_count": 81,
   "metadata": {},
   "outputs": [
    {
     "data": {
      "text/html": [
       "<div>\n",
       "<style scoped>\n",
       "    .dataframe tbody tr th:only-of-type {\n",
       "        vertical-align: middle;\n",
       "    }\n",
       "\n",
       "    .dataframe tbody tr th {\n",
       "        vertical-align: top;\n",
       "    }\n",
       "\n",
       "    .dataframe thead th {\n",
       "        text-align: right;\n",
       "    }\n",
       "</style>\n",
       "<table border=\"1\" class=\"dataframe\">\n",
       "  <thead>\n",
       "    <tr style=\"text-align: right;\">\n",
       "      <th></th>\n",
       "      <th>Entity</th>\n",
       "      <th>Code</th>\n",
       "      <th>Year</th>\n",
       "      <th>Oil Consumption - EJ</th>\n",
       "      <th>Gas Consumption - EJ</th>\n",
       "      <th>Coal Consumption - EJ</th>\n",
       "      <th>Solar Consumption - EJ</th>\n",
       "      <th>Hydro Consumption - EJ</th>\n",
       "      <th>Nuclear Consumption - EJ</th>\n",
       "      <th>Wind Consumption - EJ</th>\n",
       "      <th>Geo Biomass Other - EJ</th>\n",
       "      <th>Biofuels (TWh)</th>\n",
       "    </tr>\n",
       "  </thead>\n",
       "  <tbody>\n",
       "    <tr>\n",
       "      <th>2500</th>\n",
       "      <td>Indonesia</td>\n",
       "      <td>IDN</td>\n",
       "      <td>1965</td>\n",
       "      <td>72.543680</td>\n",
       "      <td>5.075004</td>\n",
       "      <td>1.500271</td>\n",
       "      <td>0.0</td>\n",
       "      <td>5.070038</td>\n",
       "      <td>0.0</td>\n",
       "      <td>0.0</td>\n",
       "      <td>0.0</td>\n",
       "      <td>0.0</td>\n",
       "    </tr>\n",
       "    <tr>\n",
       "      <th>2501</th>\n",
       "      <td>Indonesia</td>\n",
       "      <td>IDN</td>\n",
       "      <td>1966</td>\n",
       "      <td>69.864521</td>\n",
       "      <td>5.176504</td>\n",
       "      <td>1.837541</td>\n",
       "      <td>0.0</td>\n",
       "      <td>6.592277</td>\n",
       "      <td>0.0</td>\n",
       "      <td>0.0</td>\n",
       "      <td>0.0</td>\n",
       "      <td>0.0</td>\n",
       "    </tr>\n",
       "    <tr>\n",
       "      <th>2502</th>\n",
       "      <td>Indonesia</td>\n",
       "      <td>IDN</td>\n",
       "      <td>1967</td>\n",
       "      <td>67.402853</td>\n",
       "      <td>6.323455</td>\n",
       "      <td>1.290931</td>\n",
       "      <td>0.0</td>\n",
       "      <td>7.402501</td>\n",
       "      <td>0.0</td>\n",
       "      <td>0.0</td>\n",
       "      <td>0.0</td>\n",
       "      <td>0.0</td>\n",
       "    </tr>\n",
       "    <tr>\n",
       "      <th>2503</th>\n",
       "      <td>Indonesia</td>\n",
       "      <td>IDN</td>\n",
       "      <td>1968</td>\n",
       "      <td>71.299362</td>\n",
       "      <td>6.424955</td>\n",
       "      <td>0.965291</td>\n",
       "      <td>0.0</td>\n",
       "      <td>9.145710</td>\n",
       "      <td>0.0</td>\n",
       "      <td>0.0</td>\n",
       "      <td>0.0</td>\n",
       "      <td>0.0</td>\n",
       "    </tr>\n",
       "    <tr>\n",
       "      <th>2504</th>\n",
       "      <td>Indonesia</td>\n",
       "      <td>IDN</td>\n",
       "      <td>1969</td>\n",
       "      <td>76.334142</td>\n",
       "      <td>12.108960</td>\n",
       "      <td>1.163001</td>\n",
       "      <td>0.0</td>\n",
       "      <td>9.563098</td>\n",
       "      <td>0.0</td>\n",
       "      <td>0.0</td>\n",
       "      <td>0.0</td>\n",
       "      <td>0.0</td>\n",
       "    </tr>\n",
       "  </tbody>\n",
       "</table>\n",
       "</div>"
      ],
      "text/plain": [
       "         Entity Code  Year  Oil Consumption - EJ  Gas Consumption - EJ  \\\n",
       "2500  Indonesia  IDN  1965             72.543680              5.075004   \n",
       "2501  Indonesia  IDN  1966             69.864521              5.176504   \n",
       "2502  Indonesia  IDN  1967             67.402853              6.323455   \n",
       "2503  Indonesia  IDN  1968             71.299362              6.424955   \n",
       "2504  Indonesia  IDN  1969             76.334142             12.108960   \n",
       "\n",
       "      Coal Consumption - EJ  Solar Consumption - EJ  Hydro Consumption - EJ  \\\n",
       "2500               1.500271                     0.0                5.070038   \n",
       "2501               1.837541                     0.0                6.592277   \n",
       "2502               1.290931                     0.0                7.402501   \n",
       "2503               0.965291                     0.0                9.145710   \n",
       "2504               1.163001                     0.0                9.563098   \n",
       "\n",
       "      Nuclear Consumption - EJ  Wind Consumption - EJ  Geo Biomass Other - EJ  \\\n",
       "2500                       0.0                    0.0                     0.0   \n",
       "2501                       0.0                    0.0                     0.0   \n",
       "2502                       0.0                    0.0                     0.0   \n",
       "2503                       0.0                    0.0                     0.0   \n",
       "2504                       0.0                    0.0                     0.0   \n",
       "\n",
       "      Biofuels (TWh)  \n",
       "2500             0.0  \n",
       "2501             0.0  \n",
       "2502             0.0  \n",
       "2503             0.0  \n",
       "2504             0.0  "
      ]
     },
     "execution_count": 81,
     "metadata": {},
     "output_type": "execute_result"
    }
   ],
   "source": [
    "# Delect rows based on inverse of column values\n",
    "df1 = df[~(df['Entity'] == \"Indonesia\")].index \n",
    "df.drop(df1, inplace = True)\n",
    "df.head()"
   ]
  },
  {
   "cell_type": "markdown",
   "metadata": {},
   "source": [
    "Saat ini hanya tersisa data di negara Indonesia sehingga kolom entity sudah tidak diperlukan dan dapat dihapus.\n",
    "Kolom code juga dapat dihapus karena tidak mempengaruhi hasil"
   ]
  },
  {
   "cell_type": "code",
   "execution_count": 82,
   "metadata": {},
   "outputs": [
    {
     "data": {
      "text/html": [
       "<div>\n",
       "<style scoped>\n",
       "    .dataframe tbody tr th:only-of-type {\n",
       "        vertical-align: middle;\n",
       "    }\n",
       "\n",
       "    .dataframe tbody tr th {\n",
       "        vertical-align: top;\n",
       "    }\n",
       "\n",
       "    .dataframe thead th {\n",
       "        text-align: right;\n",
       "    }\n",
       "</style>\n",
       "<table border=\"1\" class=\"dataframe\">\n",
       "  <thead>\n",
       "    <tr style=\"text-align: right;\">\n",
       "      <th></th>\n",
       "      <th>Year</th>\n",
       "      <th>Oil Consumption - EJ</th>\n",
       "      <th>Gas Consumption - EJ</th>\n",
       "      <th>Coal Consumption - EJ</th>\n",
       "      <th>Solar Consumption - EJ</th>\n",
       "      <th>Hydro Consumption - EJ</th>\n",
       "      <th>Nuclear Consumption - EJ</th>\n",
       "      <th>Wind Consumption - EJ</th>\n",
       "      <th>Geo Biomass Other - EJ</th>\n",
       "      <th>Biofuels (TWh)</th>\n",
       "    </tr>\n",
       "  </thead>\n",
       "  <tbody>\n",
       "    <tr>\n",
       "      <th>2500</th>\n",
       "      <td>1965</td>\n",
       "      <td>72.543680</td>\n",
       "      <td>5.075004</td>\n",
       "      <td>1.500271</td>\n",
       "      <td>0.0</td>\n",
       "      <td>5.070038</td>\n",
       "      <td>0.0</td>\n",
       "      <td>0.0</td>\n",
       "      <td>0.0</td>\n",
       "      <td>0.0</td>\n",
       "    </tr>\n",
       "    <tr>\n",
       "      <th>2501</th>\n",
       "      <td>1966</td>\n",
       "      <td>69.864521</td>\n",
       "      <td>5.176504</td>\n",
       "      <td>1.837541</td>\n",
       "      <td>0.0</td>\n",
       "      <td>6.592277</td>\n",
       "      <td>0.0</td>\n",
       "      <td>0.0</td>\n",
       "      <td>0.0</td>\n",
       "      <td>0.0</td>\n",
       "    </tr>\n",
       "    <tr>\n",
       "      <th>2502</th>\n",
       "      <td>1967</td>\n",
       "      <td>67.402853</td>\n",
       "      <td>6.323455</td>\n",
       "      <td>1.290931</td>\n",
       "      <td>0.0</td>\n",
       "      <td>7.402501</td>\n",
       "      <td>0.0</td>\n",
       "      <td>0.0</td>\n",
       "      <td>0.0</td>\n",
       "      <td>0.0</td>\n",
       "    </tr>\n",
       "    <tr>\n",
       "      <th>2503</th>\n",
       "      <td>1968</td>\n",
       "      <td>71.299362</td>\n",
       "      <td>6.424955</td>\n",
       "      <td>0.965291</td>\n",
       "      <td>0.0</td>\n",
       "      <td>9.145710</td>\n",
       "      <td>0.0</td>\n",
       "      <td>0.0</td>\n",
       "      <td>0.0</td>\n",
       "      <td>0.0</td>\n",
       "    </tr>\n",
       "    <tr>\n",
       "      <th>2504</th>\n",
       "      <td>1969</td>\n",
       "      <td>76.334142</td>\n",
       "      <td>12.108960</td>\n",
       "      <td>1.163001</td>\n",
       "      <td>0.0</td>\n",
       "      <td>9.563098</td>\n",
       "      <td>0.0</td>\n",
       "      <td>0.0</td>\n",
       "      <td>0.0</td>\n",
       "      <td>0.0</td>\n",
       "    </tr>\n",
       "  </tbody>\n",
       "</table>\n",
       "</div>"
      ],
      "text/plain": [
       "      Year  Oil Consumption - EJ  Gas Consumption - EJ  Coal Consumption - EJ  \\\n",
       "2500  1965             72.543680              5.075004               1.500271   \n",
       "2501  1966             69.864521              5.176504               1.837541   \n",
       "2502  1967             67.402853              6.323455               1.290931   \n",
       "2503  1968             71.299362              6.424955               0.965291   \n",
       "2504  1969             76.334142             12.108960               1.163001   \n",
       "\n",
       "      Solar Consumption - EJ  Hydro Consumption - EJ  \\\n",
       "2500                     0.0                5.070038   \n",
       "2501                     0.0                6.592277   \n",
       "2502                     0.0                7.402501   \n",
       "2503                     0.0                9.145710   \n",
       "2504                     0.0                9.563098   \n",
       "\n",
       "      Nuclear Consumption - EJ  Wind Consumption - EJ  Geo Biomass Other - EJ  \\\n",
       "2500                       0.0                    0.0                     0.0   \n",
       "2501                       0.0                    0.0                     0.0   \n",
       "2502                       0.0                    0.0                     0.0   \n",
       "2503                       0.0                    0.0                     0.0   \n",
       "2504                       0.0                    0.0                     0.0   \n",
       "\n",
       "      Biofuels (TWh)  \n",
       "2500             0.0  \n",
       "2501             0.0  \n",
       "2502             0.0  \n",
       "2503             0.0  \n",
       "2504             0.0  "
      ]
     },
     "execution_count": 82,
     "metadata": {},
     "output_type": "execute_result"
    }
   ],
   "source": [
    "# Membuang kolom yang tidak dibutuhkan\n",
    "to_drop = ['Code', 'Entity']\n",
    "df.drop(to_drop, inplace=True, axis=1)\n",
    "df.head()"
   ]
  },
  {
   "cell_type": "markdown",
   "metadata": {},
   "source": [
    "Setelah mendapatkan tipe data yang dibutuhkan, distribusi data ditampilkan menggunakan seaborn"
   ]
  },
  {
   "cell_type": "code",
   "execution_count": 84,
   "metadata": {},
   "outputs": [],
   "source": [
    "# convert to long (tidy) form\n",
    "dfm = df.melt('Year', var_name='source', value_name='vals')"
   ]
  },
  {
   "cell_type": "code",
   "execution_count": 85,
   "metadata": {},
   "outputs": [
    {
     "data": {
      "text/plain": [
       "<seaborn.axisgrid.FacetGrid at 0x219eb977f40>"
      ]
     },
     "execution_count": 85,
     "metadata": {},
     "output_type": "execute_result"
    },
    {
     "data": {
      "image/png": "[encoded data removed]",
      "text/plain": [
       "<Figure size 522.625x360 with 1 Axes>"
      ]
     },
     "metadata": {
      "needs_background": "light"
     },
     "output_type": "display_data"
    }
   ],
   "source": [
    "g = sns.catplot(x=\"Year\", y=\"vals\", hue='source', data=dfm, kind='point')\n",
    "g.set_xticklabels(rotation=90, fontsize=6)\n"
   ]
  },
  {
   "cell_type": "code",
   "execution_count": 86,
   "metadata": {},
   "outputs": [
    {
     "data": {
      "text/plain": [
       "<AxesSubplot:xlabel='Oil Consumption - EJ'>"
      ]
     },
     "execution_count": 86,
     "metadata": {},
     "output_type": "execute_result"
    },
    {
     "data": {
      "image/png": "[encoded data removed]",
      "text/plain": [
       "<Figure size 432x288 with 1 Axes>"
      ]
     },
     "metadata": {
      "needs_background": "light"
     },
     "output_type": "display_data"
    }
   ],
   "source": [
    "sns.boxplot(x=df['Oil Consumption - EJ'])"
   ]
  },
  {
   "cell_type": "code",
   "execution_count": 87,
   "metadata": {},
   "outputs": [
    {
     "data": {
      "text/plain": [
       "<AxesSubplot:xlabel='Gas Consumption - EJ'>"
      ]
     },
     "execution_count": 87,
     "metadata": {},
     "output_type": "execute_result"
    },
    {
     "data": {
      "image/png": "[encoded data removed]",
      "text/plain": [
       "<Figure size 432x288 with 1 Axes>"
      ]
     },
     "metadata": {
      "needs_background": "light"
     },
     "output_type": "display_data"
    }
   ],
   "source": [
    "sns.boxplot(x=df['Gas Consumption - EJ'])"
   ]
  },
  {
   "cell_type": "code",
   "execution_count": 88,
   "metadata": {},
   "outputs": [
    {
     "data": {
      "text/plain": [
       "<AxesSubplot:xlabel='Coal Consumption - EJ'>"
      ]
     },
     "execution_count": 88,
     "metadata": {},
     "output_type": "execute_result"
    },
    {
     "data": {
      "image/png": "[encoded data removed]",
      "text/plain": [
       "<Figure size 432x288 with 1 Axes>"
      ]
     },
     "metadata": {
      "needs_background": "light"
     },
     "output_type": "display_data"
    }
   ],
   "source": [
    "sns.boxplot(x=df[\"Coal Consumption - EJ\"])"
   ]
  },
  {
   "cell_type": "code",
   "execution_count": 89,
   "metadata": {},
   "outputs": [
    {
     "data": {
      "text/plain": [
       "<AxesSubplot:xlabel='Hydro Consumption - EJ'>"
      ]
     },
     "execution_count": 89,
     "metadata": {},
     "output_type": "execute_result"
    },
    {
     "data": {
      "image/png": "[encoded data removed]",
      "text/plain": [
       "<Figure size 432x288 with 1 Axes>"
      ]
     },
     "metadata": {
      "needs_background": "light"
     },
     "output_type": "display_data"
    }
   ],
   "source": [
    "sns.boxplot(x=df['Hydro Consumption - EJ'])"
   ]
  },
  {
   "cell_type": "code",
   "execution_count": 90,
   "metadata": {},
   "outputs": [
    {
     "data": {
      "text/plain": [
       "<AxesSubplot:xlabel='Geo Biomass Other - EJ'>"
      ]
     },
     "execution_count": 90,
     "metadata": {},
     "output_type": "execute_result"
    },
    {
     "data": {
      "image/png": "[encoded data removed]",
      "text/plain": [
       "<Figure size 432x288 with 1 Axes>"
      ]
     },
     "metadata": {
      "needs_background": "light"
     },
     "output_type": "display_data"
    }
   ],
   "source": [
    "sns.boxplot(x=df['Geo Biomass Other - EJ'])"
   ]
  },
  {
   "cell_type": "markdown",
   "metadata": {},
   "source": [
    "# **Membuat Model Regresi Linear**"
   ]
  },
  {
   "cell_type": "markdown",
   "metadata": {},
   "source": [
    "Mengimport modul untuk regresi linear dari modul sklearn"
   ]
  },
  {
   "cell_type": "code",
   "execution_count": 91,
   "metadata": {
    "execution": {
     "iopub.status.busy": "2022-06-23T07:00:30.790541Z",
     "iopub.status.idle": "2022-06-23T07:00:30.791622Z"
    }
   },
   "outputs": [],
   "source": [
    "import sklearn\n",
    "from sklearn import linear_model \n",
    "from sklearn.linear_model import LinearRegression\n",
    "from sklearn.model_selection import train_test_split "
   ]
  },
  {
   "cell_type": "code",
   "execution_count": 92,
   "metadata": {
    "execution": {
     "iopub.status.busy": "2022-06-23T07:00:30.793533Z",
     "iopub.status.idle": "2022-06-23T07:00:30.794761Z"
    }
   },
   "outputs": [],
   "source": [
    "X = df[['Year']]\n",
    "y = df[['Oil Consumption - EJ', \n",
    "        'Gas Consumption - EJ', \n",
    "        \"Coal Consumption - EJ\", \n",
    "        \"Solar Consumption - EJ\", \n",
    "        \"Hydro Consumption - EJ\", \n",
    "        \"Nuclear Consumption - EJ\",\n",
    "        'Wind Consumption - EJ',\n",
    "        'Geo Biomass Other - EJ',\n",
    "        'Biofuels (TWh)']]"
   ]
  },
  {
   "cell_type": "code",
   "execution_count": 93,
   "metadata": {
    "execution": {
     "iopub.status.busy": "2022-06-23T07:00:30.796485Z",
     "iopub.status.idle": "2022-06-23T07:00:30.797489Z"
    }
   },
   "outputs": [],
   "source": [
    "X_train, X_test, y_train, y_test = train_test_split(\n",
    "X, y , test_size = 0.2, random_state=101)"
   ]
  },
  {
   "cell_type": "code",
   "execution_count": 94,
   "metadata": {},
   "outputs": [
    {
     "data": {
      "text/plain": [
       "LinearRegression()"
      ]
     },
     "execution_count": 94,
     "metadata": {},
     "output_type": "execute_result"
    }
   ],
   "source": [
    "lm = linear_model.LinearRegression()\n",
    "lm.fit(X_train, y_train)"
   ]
  },
  {
   "cell_type": "code",
   "execution_count": 95,
   "metadata": {},
   "outputs": [
    {
     "data": {
      "text/plain": [
       "array([[1.85382414e+01],\n",
       "       [1.02455550e+01],\n",
       "       [1.40223410e+01],\n",
       "       [8.47323155e-04],\n",
       "       [8.15811328e-01],\n",
       "       [0.00000000e+00],\n",
       "       [2.23748203e-03],\n",
       "       [6.75518714e-01],\n",
       "       [4.28828432e-01]])"
      ]
     },
     "execution_count": 95,
     "metadata": {},
     "output_type": "execute_result"
    }
   ],
   "source": [
    "lm.coef_"
   ]
  },
  {
   "cell_type": "code",
   "execution_count": 96,
   "metadata": {},
   "outputs": [
    {
     "name": "stdout",
     "output_type": "stream",
     "text": [
      "training data MAE :  20.5569246098949\n"
     ]
    }
   ],
   "source": [
    "from sklearn.metrics import mean_absolute_error\n",
    "y_train_pred = lm.predict(X_train)\n",
    "mae_train = mean_absolute_error(y_train, y_train_pred)\n",
    "print('training data MAE : ', mae_train)"
   ]
  },
  {
   "cell_type": "code",
   "execution_count": 97,
   "metadata": {},
   "outputs": [
    {
     "name": "stdout",
     "output_type": "stream",
     "text": [
      "testing data MAE :  19.290815545195187\n"
     ]
    }
   ],
   "source": [
    "from sklearn.metrics import mean_absolute_error\n",
    "y_test_pred = lm.predict(X_test)\n",
    "mae_test = mean_absolute_error(y_test, y_test_pred)\n",
    "print('testing data MAE : ', mae_test)"
   ]
  },
  {
   "cell_type": "code",
   "execution_count": 98,
   "metadata": {},
   "outputs": [
    {
     "data": {
      "text/plain": [
       "0.6771184306878543"
      ]
     },
     "execution_count": 98,
     "metadata": {},
     "output_type": "execute_result"
    }
   ],
   "source": [
    "lm.score(X_train, y_train)"
   ]
  },
  {
   "cell_type": "code",
   "execution_count": 99,
   "metadata": {},
   "outputs": [
    {
     "data": {
      "text/plain": [
       "-79.42412713425603"
      ]
     },
     "execution_count": 99,
     "metadata": {},
     "output_type": "execute_result"
    }
   ],
   "source": [
    "lm.score(X_test, y_test)"
   ]
  },
  {
   "cell_type": "markdown",
   "metadata": {},
   "source": [
    "## Korelasi Data"
   ]
  },
  {
   "cell_type": "code",
   "execution_count": 100,
   "metadata": {},
   "outputs": [
    {
     "data": {
      "text/html": [
       "<div>\n",
       "<style scoped>\n",
       "    .dataframe tbody tr th:only-of-type {\n",
       "        vertical-align: middle;\n",
       "    }\n",
       "\n",
       "    .dataframe tbody tr th {\n",
       "        vertical-align: top;\n",
       "    }\n",
       "\n",
       "    .dataframe thead th {\n",
       "        text-align: right;\n",
       "    }\n",
       "</style>\n",
       "<table border=\"1\" class=\"dataframe\">\n",
       "  <thead>\n",
       "    <tr style=\"text-align: right;\">\n",
       "      <th></th>\n",
       "      <th>Year</th>\n",
       "      <th>Oil Consumption - EJ</th>\n",
       "      <th>Gas Consumption - EJ</th>\n",
       "      <th>Coal Consumption - EJ</th>\n",
       "      <th>Solar Consumption - EJ</th>\n",
       "      <th>Hydro Consumption - EJ</th>\n",
       "      <th>Nuclear Consumption - EJ</th>\n",
       "      <th>Wind Consumption - EJ</th>\n",
       "      <th>Geo Biomass Other - EJ</th>\n",
       "      <th>Biofuels (TWh)</th>\n",
       "    </tr>\n",
       "  </thead>\n",
       "  <tbody>\n",
       "    <tr>\n",
       "      <th>Year</th>\n",
       "      <td>1.000000</td>\n",
       "      <td>0.988494</td>\n",
       "      <td>0.982971</td>\n",
       "      <td>0.864873</td>\n",
       "      <td>0.457875</td>\n",
       "      <td>0.929570</td>\n",
       "      <td>NaN</td>\n",
       "      <td>0.343029</td>\n",
       "      <td>0.913135</td>\n",
       "      <td>0.510703</td>\n",
       "    </tr>\n",
       "    <tr>\n",
       "      <th>Oil Consumption - EJ</th>\n",
       "      <td>0.988494</td>\n",
       "      <td>1.000000</td>\n",
       "      <td>0.989217</td>\n",
       "      <td>0.882691</td>\n",
       "      <td>0.442367</td>\n",
       "      <td>0.938842</td>\n",
       "      <td>NaN</td>\n",
       "      <td>0.333400</td>\n",
       "      <td>0.936233</td>\n",
       "      <td>0.500236</td>\n",
       "    </tr>\n",
       "    <tr>\n",
       "      <th>Gas Consumption - EJ</th>\n",
       "      <td>0.982971</td>\n",
       "      <td>0.989217</td>\n",
       "      <td>1.000000</td>\n",
       "      <td>0.836318</td>\n",
       "      <td>0.383140</td>\n",
       "      <td>0.941765</td>\n",
       "      <td>NaN</td>\n",
       "      <td>0.280287</td>\n",
       "      <td>0.908402</td>\n",
       "      <td>0.437210</td>\n",
       "    </tr>\n",
       "    <tr>\n",
       "      <th>Coal Consumption - EJ</th>\n",
       "      <td>0.864873</td>\n",
       "      <td>0.882691</td>\n",
       "      <td>0.836318</td>\n",
       "      <td>1.000000</td>\n",
       "      <td>0.687066</td>\n",
       "      <td>0.862529</td>\n",
       "      <td>NaN</td>\n",
       "      <td>0.556610</td>\n",
       "      <td>0.968329</td>\n",
       "      <td>0.749037</td>\n",
       "    </tr>\n",
       "    <tr>\n",
       "      <th>Solar Consumption - EJ</th>\n",
       "      <td>0.457875</td>\n",
       "      <td>0.442367</td>\n",
       "      <td>0.383140</td>\n",
       "      <td>0.687066</td>\n",
       "      <td>1.000000</td>\n",
       "      <td>0.488075</td>\n",
       "      <td>NaN</td>\n",
       "      <td>0.766613</td>\n",
       "      <td>0.609638</td>\n",
       "      <td>0.975259</td>\n",
       "    </tr>\n",
       "    <tr>\n",
       "      <th>Hydro Consumption - EJ</th>\n",
       "      <td>0.929570</td>\n",
       "      <td>0.938842</td>\n",
       "      <td>0.941765</td>\n",
       "      <td>0.862529</td>\n",
       "      <td>0.488075</td>\n",
       "      <td>1.000000</td>\n",
       "      <td>NaN</td>\n",
       "      <td>0.334287</td>\n",
       "      <td>0.908516</td>\n",
       "      <td>0.535893</td>\n",
       "    </tr>\n",
       "    <tr>\n",
       "      <th>Nuclear Consumption - EJ</th>\n",
       "      <td>NaN</td>\n",
       "      <td>NaN</td>\n",
       "      <td>NaN</td>\n",
       "      <td>NaN</td>\n",
       "      <td>NaN</td>\n",
       "      <td>NaN</td>\n",
       "      <td>NaN</td>\n",
       "      <td>NaN</td>\n",
       "      <td>NaN</td>\n",
       "      <td>NaN</td>\n",
       "    </tr>\n",
       "    <tr>\n",
       "      <th>Wind Consumption - EJ</th>\n",
       "      <td>0.343029</td>\n",
       "      <td>0.333400</td>\n",
       "      <td>0.280287</td>\n",
       "      <td>0.556610</td>\n",
       "      <td>0.766613</td>\n",
       "      <td>0.334287</td>\n",
       "      <td>NaN</td>\n",
       "      <td>1.000000</td>\n",
       "      <td>0.492005</td>\n",
       "      <td>0.833600</td>\n",
       "    </tr>\n",
       "    <tr>\n",
       "      <th>Geo Biomass Other - EJ</th>\n",
       "      <td>0.913135</td>\n",
       "      <td>0.936233</td>\n",
       "      <td>0.908402</td>\n",
       "      <td>0.968329</td>\n",
       "      <td>0.609638</td>\n",
       "      <td>0.908516</td>\n",
       "      <td>NaN</td>\n",
       "      <td>0.492005</td>\n",
       "      <td>1.000000</td>\n",
       "      <td>0.665561</td>\n",
       "    </tr>\n",
       "    <tr>\n",
       "      <th>Biofuels (TWh)</th>\n",
       "      <td>0.510703</td>\n",
       "      <td>0.500236</td>\n",
       "      <td>0.437210</td>\n",
       "      <td>0.749037</td>\n",
       "      <td>0.975259</td>\n",
       "      <td>0.535893</td>\n",
       "      <td>NaN</td>\n",
       "      <td>0.833600</td>\n",
       "      <td>0.665561</td>\n",
       "      <td>1.000000</td>\n",
       "    </tr>\n",
       "  </tbody>\n",
       "</table>\n",
       "</div>"
      ],
      "text/plain": [
       "                              Year  Oil Consumption - EJ  \\\n",
       "Year                      1.000000              0.988494   \n",
       "Oil Consumption - EJ      0.988494              1.000000   \n",
       "Gas Consumption - EJ      0.982971              0.989217   \n",
       "Coal Consumption - EJ     0.864873              0.882691   \n",
       "Solar Consumption - EJ    0.457875              0.442367   \n",
       "Hydro Consumption - EJ    0.929570              0.938842   \n",
       "Nuclear Consumption - EJ       NaN                   NaN   \n",
       "Wind Consumption - EJ     0.343029              0.333400   \n",
       "Geo Biomass Other - EJ    0.913135              0.936233   \n",
       "Biofuels (TWh)            0.510703              0.500236   \n",
       "\n",
       "                          Gas Consumption - EJ  Coal Consumption - EJ  \\\n",
       "Year                                  0.982971               0.864873   \n",
       "Oil Consumption - EJ                  0.989217               0.882691   \n",
       "Gas Consumption - EJ                  1.000000               0.836318   \n",
       "Coal Consumption - EJ                 0.836318               1.000000   \n",
       "Solar Consumption - EJ                0.383140               0.687066   \n",
       "Hydro Consumption - EJ                0.941765               0.862529   \n",
       "Nuclear Consumption - EJ                   NaN                    NaN   \n",
       "Wind Consumption - EJ                 0.280287               0.556610   \n",
       "Geo Biomass Other - EJ                0.908402               0.968329   \n",
       "Biofuels (TWh)                        0.437210               0.749037   \n",
       "\n",
       "                          Solar Consumption - EJ  Hydro Consumption - EJ  \\\n",
       "Year                                    0.457875                0.929570   \n",
       "Oil Consumption - EJ                    0.442367                0.938842   \n",
       "Gas Consumption - EJ                    0.383140                0.941765   \n",
       "Coal Consumption - EJ                   0.687066                0.862529   \n",
       "Solar Consumption - EJ                  1.000000                0.488075   \n",
       "Hydro Consumption - EJ                  0.488075                1.000000   \n",
       "Nuclear Consumption - EJ                     NaN                     NaN   \n",
       "Wind Consumption - EJ                   0.766613                0.334287   \n",
       "Geo Biomass Other - EJ                  0.609638                0.908516   \n",
       "Biofuels (TWh)                          0.975259                0.535893   \n",
       "\n",
       "                          Nuclear Consumption - EJ  Wind Consumption - EJ  \\\n",
       "Year                                           NaN               0.343029   \n",
       "Oil Consumption - EJ                           NaN               0.333400   \n",
       "Gas Consumption - EJ                           NaN               0.280287   \n",
       "Coal Consumption - EJ                          NaN               0.556610   \n",
       "Solar Consumption - EJ                         NaN               0.766613   \n",
       "Hydro Consumption - EJ                         NaN               0.334287   \n",
       "Nuclear Consumption - EJ                       NaN                    NaN   \n",
       "Wind Consumption - EJ                          NaN               1.000000   \n",
       "Geo Biomass Other - EJ                         NaN               0.492005   \n",
       "Biofuels (TWh)                                 NaN               0.833600   \n",
       "\n",
       "                          Geo Biomass Other - EJ  Biofuels (TWh)  \n",
       "Year                                    0.913135        0.510703  \n",
       "Oil Consumption - EJ                    0.936233        0.500236  \n",
       "Gas Consumption - EJ                    0.908402        0.437210  \n",
       "Coal Consumption - EJ                   0.968329        0.749037  \n",
       "Solar Consumption - EJ                  0.609638        0.975259  \n",
       "Hydro Consumption - EJ                  0.908516        0.535893  \n",
       "Nuclear Consumption - EJ                     NaN             NaN  \n",
       "Wind Consumption - EJ                   0.492005        0.833600  \n",
       "Geo Biomass Other - EJ                  1.000000        0.665561  \n",
       "Biofuels (TWh)                          0.665561        1.000000  "
      ]
     },
     "execution_count": 100,
     "metadata": {},
     "output_type": "execute_result"
    }
   ],
   "source": [
    "df.corr()"
   ]
  },
  {
   "cell_type": "markdown",
   "metadata": {},
   "source": [
    "# **Prediction**"
   ]
  },
  {
   "cell_type": "markdown",
   "metadata": {},
   "source": [
    "Pada kesempatan kali ini, dilakukan prediksi konsumsi energi pada tahun 2030"
   ]
  },
  {
   "cell_type": "code",
   "execution_count": 103,
   "metadata": {},
   "outputs": [
    {
     "name": "stderr",
     "output_type": "stream",
     "text": [
      "C:\\Users\\Lenovo\\AppData\\Local\\Packages\\PythonSoftwareFoundation.Python.3.8_qbz5n2kfra8p0\\LocalCache\\local-packages\\Python38\\site-packages\\sklearn\\base.py:450: UserWarning: X does not have valid feature names, but LinearRegression was fitted with feature names\n",
      "  warnings.warn(\n"
     ]
    }
   ],
   "source": [
    "predict = lm.predict(np.array([[2010]]))"
   ]
  },
  {
   "cell_type": "markdown",
   "metadata": {},
   "source": [
    "Display a coef from model"
   ]
  },
  {
   "cell_type": "code",
   "execution_count": 104,
   "metadata": {},
   "outputs": [
    {
     "data": {
      "text/plain": [
       "array([[7.92424583e+02, 4.05687568e+02, 4.37277095e+02, 2.34292340e-02,\n",
       "        3.48602601e+01, 0.00000000e+00, 6.10928750e-02, 2.17396137e+01,\n",
       "        1.19366047e+01]])"
      ]
     },
     "execution_count": 104,
     "metadata": {},
     "output_type": "execute_result"
    }
   ],
   "source": [
    "predict"
   ]
  },
  {
   "cell_type": "markdown",
   "metadata": {},
   "source": [
    "**Dari model, prediksi konsumsi energi pada tahun 2030 untuk masing masing sumber adalah sebesar**\n",
    "1. Oil Consumption      = 1163.189\n",
    "2. Gas Consumption      = 610.598\n",
    "3. Coal Consumption     = 717.723\n",
    "4. Solar Consumption    = 0.04\n",
    "5. Hydro Consumption    = 51.176\n",
    "6. Nuclear Consumption  = 0\n",
    "7. Wind Consumption     = 0.1058\n",
    "8. Geo Biomass Other    = 35.249\n",
    "9. Biofuels (TWh)       = 20.513\n"
   ]
  }
 ],
 "metadata": {
  "kernelspec": {
   "display_name": "Python 3",
   "language": "python",
   "name": "python3"
  },
  "language_info": {
   "codemirror_mode": {
    "name": "ipython",
    "version": 3
   },
   "file_extension": ".py",
   "mimetype": "text/x-python",
   "name": "python",
   "nbconvert_exporter": "python",
   "pygments_lexer": "ipython3",
   "version": "3.8.5"
  }
 },
 "nbformat": 4,
 "nbformat_minor": 4
}
